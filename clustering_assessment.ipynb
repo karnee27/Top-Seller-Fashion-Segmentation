{
 "cells": [
  {
   "cell_type": "markdown",
   "id": "a802a1dd",
   "metadata": {
    "id": "a802a1dd"
   },
   "source": [
    "# Top Seller Fashion Segmentation\n",
    "\n",
    "\n",
    "Fashion retail has a large and ever-increasing popularity and relevance, allowing customers to buy anytime finding the best offers and providing satisfactory experiences in the shops. Consequently, Customer Relationship Management solutions have been enhanced by means of several technologies to better understand the behaviour and requirements of customers, engaging and influencing them to improve their shopping experience, as well as increasing the retailers’ profitability. Current solutions on marketing provide a too general approach, pushing and suggesting on most cases, the popular or most purchased items, losing the focus on the customer centricity and personality. <br>\n",
    "\n",
    "\n",
    "In this task, you are required to perform a clustering algorithms based on top seller and total product listed. Write your findings and conclusion."
   ]
  },
  {
   "cell_type": "markdown",
   "id": "7468438a",
   "metadata": {
    "id": "7468438a"
   },
   "source": [
    "# import libraries"
   ]
  },
  {
   "cell_type": "code",
   "execution_count": 1,
   "id": "2UW48DgcM4YS",
   "metadata": {
    "id": "2UW48DgcM4YS"
   },
   "outputs": [],
   "source": [
    "import numpy as np\n",
    "import matplotlib.pyplot as plt\n",
    "import pandas as pd\n",
    "import seaborn as sns"
   ]
  },
  {
   "cell_type": "markdown",
   "id": "609d52f8",
   "metadata": {
    "id": "609d52f8"
   },
   "source": [
    "# import dataset"
   ]
  },
  {
   "cell_type": "code",
   "execution_count": 3,
   "id": "3b9b6af9",
   "metadata": {
    "id": "3b9b6af9"
   },
   "outputs": [],
   "source": [
    "ds = pd.read_csv('countries_with_top_sellers_fashion_c2c.csv')"
   ]
  },
  {
   "cell_type": "markdown",
   "id": "e70d5db7",
   "metadata": {
    "id": "e70d5db7"
   },
   "source": [
    "# Data Exploration"
   ]
  },
  {
   "cell_type": "code",
   "execution_count": null,
   "id": "WbNwyA4Fa2l5",
   "metadata": {
    "colab": {
     "base_uri": "https://localhost:8080/",
     "height": 255
    },
    "id": "WbNwyA4Fa2l5",
    "outputId": "416997e2-e0e8-4b46-afe4-ab3310ed55dd"
   },
   "outputs": [
    {
     "data": {
      "application/vnd.google.colaboratory.intrinsic+json": {
       "type": "dataframe",
       "variable_name": "ds"
      },
      "text/html": [
       "\n",
       "  <div id=\"df-367f4ec6-e4f4-4bf3-9bfa-6fe51fb2191f\" class=\"colab-df-container\">\n",
       "    <div>\n",
       "<style scoped>\n",
       "    .dataframe tbody tr th:only-of-type {\n",
       "        vertical-align: middle;\n",
       "    }\n",
       "\n",
       "    .dataframe tbody tr th {\n",
       "        vertical-align: top;\n",
       "    }\n",
       "\n",
       "    .dataframe thead th {\n",
       "        text-align: right;\n",
       "    }\n",
       "</style>\n",
       "<table border=\"1\" class=\"dataframe\">\n",
       "  <thead>\n",
       "    <tr style=\"text-align: right;\">\n",
       "      <th></th>\n",
       "      <th>country</th>\n",
       "      <th>sellers</th>\n",
       "      <th>topsellers</th>\n",
       "      <th>topsellerratio</th>\n",
       "      <th>femalesellersratio</th>\n",
       "      <th>topfemalesellersratio</th>\n",
       "      <th>femalesellers</th>\n",
       "      <th>malesellers</th>\n",
       "      <th>topfemalesellers</th>\n",
       "      <th>topmalesellers</th>\n",
       "      <th>...</th>\n",
       "      <th>topmeanproductssold</th>\n",
       "      <th>topmeanproductslisted</th>\n",
       "      <th>meanproductssold</th>\n",
       "      <th>meanproductslisted</th>\n",
       "      <th>meanofflinedays</th>\n",
       "      <th>topmeanofflinedays</th>\n",
       "      <th>meanfollowers</th>\n",
       "      <th>meanfollowing</th>\n",
       "      <th>topmeanfollowers</th>\n",
       "      <th>topmeanfollowing</th>\n",
       "    </tr>\n",
       "  </thead>\n",
       "  <tbody>\n",
       "    <tr>\n",
       "      <th>0</th>\n",
       "      <td>Taiwan</td>\n",
       "      <td>1</td>\n",
       "      <td>1</td>\n",
       "      <td>100.0</td>\n",
       "      <td>100.0</td>\n",
       "      <td>100.0</td>\n",
       "      <td>1</td>\n",
       "      <td>0</td>\n",
       "      <td>1</td>\n",
       "      <td>0</td>\n",
       "      <td>...</td>\n",
       "      <td>57.00</td>\n",
       "      <td>56.00</td>\n",
       "      <td>57.000000</td>\n",
       "      <td>56.000000</td>\n",
       "      <td>11.0</td>\n",
       "      <td>11.0</td>\n",
       "      <td>83.0</td>\n",
       "      <td>8.0</td>\n",
       "      <td>83.0</td>\n",
       "      <td>8.0</td>\n",
       "    </tr>\n",
       "    <tr>\n",
       "      <th>1</th>\n",
       "      <td>Slovaquie</td>\n",
       "      <td>2</td>\n",
       "      <td>1</td>\n",
       "      <td>50.0</td>\n",
       "      <td>0.0</td>\n",
       "      <td>0.0</td>\n",
       "      <td>0</td>\n",
       "      <td>2</td>\n",
       "      <td>0</td>\n",
       "      <td>1</td>\n",
       "      <td>...</td>\n",
       "      <td>27.00</td>\n",
       "      <td>14.00</td>\n",
       "      <td>14.000000</td>\n",
       "      <td>7.000000</td>\n",
       "      <td>17.0</td>\n",
       "      <td>15.0</td>\n",
       "      <td>10.5</td>\n",
       "      <td>8.5</td>\n",
       "      <td>15.0</td>\n",
       "      <td>8.0</td>\n",
       "    </tr>\n",
       "    <tr>\n",
       "      <th>2</th>\n",
       "      <td>Lettonie</td>\n",
       "      <td>4</td>\n",
       "      <td>2</td>\n",
       "      <td>50.0</td>\n",
       "      <td>100.0</td>\n",
       "      <td>100.0</td>\n",
       "      <td>4</td>\n",
       "      <td>0</td>\n",
       "      <td>2</td>\n",
       "      <td>0</td>\n",
       "      <td>...</td>\n",
       "      <td>40.50</td>\n",
       "      <td>18.00</td>\n",
       "      <td>20.750000</td>\n",
       "      <td>9.000000</td>\n",
       "      <td>120.3</td>\n",
       "      <td>11.5</td>\n",
       "      <td>21.0</td>\n",
       "      <td>52.3</td>\n",
       "      <td>38.0</td>\n",
       "      <td>98.5</td>\n",
       "    </tr>\n",
       "    <tr>\n",
       "      <th>3</th>\n",
       "      <td>Bulgarie</td>\n",
       "      <td>9</td>\n",
       "      <td>4</td>\n",
       "      <td>44.4</td>\n",
       "      <td>66.7</td>\n",
       "      <td>100.0</td>\n",
       "      <td>6</td>\n",
       "      <td>3</td>\n",
       "      <td>4</td>\n",
       "      <td>0</td>\n",
       "      <td>...</td>\n",
       "      <td>36.25</td>\n",
       "      <td>17.25</td>\n",
       "      <td>18.888889</td>\n",
       "      <td>9.111111</td>\n",
       "      <td>98.3</td>\n",
       "      <td>19.0</td>\n",
       "      <td>28.6</td>\n",
       "      <td>31.6</td>\n",
       "      <td>46.3</td>\n",
       "      <td>19.0</td>\n",
       "    </tr>\n",
       "    <tr>\n",
       "      <th>4</th>\n",
       "      <td>Chypre</td>\n",
       "      <td>4</td>\n",
       "      <td>1</td>\n",
       "      <td>25.0</td>\n",
       "      <td>100.0</td>\n",
       "      <td>100.0</td>\n",
       "      <td>4</td>\n",
       "      <td>0</td>\n",
       "      <td>1</td>\n",
       "      <td>0</td>\n",
       "      <td>...</td>\n",
       "      <td>41.00</td>\n",
       "      <td>66.00</td>\n",
       "      <td>14.000000</td>\n",
       "      <td>20.250000</td>\n",
       "      <td>17.3</td>\n",
       "      <td>11.0</td>\n",
       "      <td>21.3</td>\n",
       "      <td>10.3</td>\n",
       "      <td>39.0</td>\n",
       "      <td>17.0</td>\n",
       "    </tr>\n",
       "  </tbody>\n",
       "</table>\n",
       "<p>5 rows × 26 columns</p>\n",
       "</div>\n",
       "    <div class=\"colab-df-buttons\">\n",
       "\n",
       "  <div class=\"colab-df-container\">\n",
       "    <button class=\"colab-df-convert\" onclick=\"convertToInteractive('df-367f4ec6-e4f4-4bf3-9bfa-6fe51fb2191f')\"\n",
       "            title=\"Convert this dataframe to an interactive table.\"\n",
       "            style=\"display:none;\">\n",
       "\n",
       "  <svg xmlns=\"http://www.w3.org/2000/svg\" height=\"24px\" viewBox=\"0 -960 960 960\">\n",
       "    <path d=\"M120-120v-720h720v720H120Zm60-500h600v-160H180v160Zm220 220h160v-160H400v160Zm0 220h160v-160H400v160ZM180-400h160v-160H180v160Zm440 0h160v-160H620v160ZM180-180h160v-160H180v160Zm440 0h160v-160H620v160Z\"/>\n",
       "  </svg>\n",
       "    </button>\n",
       "\n",
       "  <style>\n",
       "    .colab-df-container {\n",
       "      display:flex;\n",
       "      gap: 12px;\n",
       "    }\n",
       "\n",
       "    .colab-df-convert {\n",
       "      background-color: #E8F0FE;\n",
       "      border: none;\n",
       "      border-radius: 50%;\n",
       "      cursor: pointer;\n",
       "      display: none;\n",
       "      fill: #1967D2;\n",
       "      height: 32px;\n",
       "      padding: 0 0 0 0;\n",
       "      width: 32px;\n",
       "    }\n",
       "\n",
       "    .colab-df-convert:hover {\n",
       "      background-color: #E2EBFA;\n",
       "      box-shadow: 0px 1px 2px rgba(60, 64, 67, 0.3), 0px 1px 3px 1px rgba(60, 64, 67, 0.15);\n",
       "      fill: #174EA6;\n",
       "    }\n",
       "\n",
       "    .colab-df-buttons div {\n",
       "      margin-bottom: 4px;\n",
       "    }\n",
       "\n",
       "    [theme=dark] .colab-df-convert {\n",
       "      background-color: #3B4455;\n",
       "      fill: #D2E3FC;\n",
       "    }\n",
       "\n",
       "    [theme=dark] .colab-df-convert:hover {\n",
       "      background-color: #434B5C;\n",
       "      box-shadow: 0px 1px 3px 1px rgba(0, 0, 0, 0.15);\n",
       "      filter: drop-shadow(0px 1px 2px rgba(0, 0, 0, 0.3));\n",
       "      fill: #FFFFFF;\n",
       "    }\n",
       "  </style>\n",
       "\n",
       "    <script>\n",
       "      const buttonEl =\n",
       "        document.querySelector('#df-367f4ec6-e4f4-4bf3-9bfa-6fe51fb2191f button.colab-df-convert');\n",
       "      buttonEl.style.display =\n",
       "        google.colab.kernel.accessAllowed ? 'block' : 'none';\n",
       "\n",
       "      async function convertToInteractive(key) {\n",
       "        const element = document.querySelector('#df-367f4ec6-e4f4-4bf3-9bfa-6fe51fb2191f');\n",
       "        const dataTable =\n",
       "          await google.colab.kernel.invokeFunction('convertToInteractive',\n",
       "                                                    [key], {});\n",
       "        if (!dataTable) return;\n",
       "\n",
       "        const docLinkHtml = 'Like what you see? Visit the ' +\n",
       "          '<a target=\"_blank\" href=https://colab.research.google.com/notebooks/data_table.ipynb>data table notebook</a>'\n",
       "          + ' to learn more about interactive tables.';\n",
       "        element.innerHTML = '';\n",
       "        dataTable['output_type'] = 'display_data';\n",
       "        await google.colab.output.renderOutput(dataTable, element);\n",
       "        const docLink = document.createElement('div');\n",
       "        docLink.innerHTML = docLinkHtml;\n",
       "        element.appendChild(docLink);\n",
       "      }\n",
       "    </script>\n",
       "  </div>\n",
       "\n",
       "\n",
       "<div id=\"df-00d0552f-a5f6-4c1b-9e92-c956bf33a67a\">\n",
       "  <button class=\"colab-df-quickchart\" onclick=\"quickchart('df-00d0552f-a5f6-4c1b-9e92-c956bf33a67a')\"\n",
       "            title=\"Suggest charts\"\n",
       "            style=\"display:none;\">\n",
       "\n",
       "<svg xmlns=\"http://www.w3.org/2000/svg\" height=\"24px\"viewBox=\"0 0 24 24\"\n",
       "     width=\"24px\">\n",
       "    <g>\n",
       "        <path d=\"M19 3H5c-1.1 0-2 .9-2 2v14c0 1.1.9 2 2 2h14c1.1 0 2-.9 2-2V5c0-1.1-.9-2-2-2zM9 17H7v-7h2v7zm4 0h-2V7h2v10zm4 0h-2v-4h2v4z\"/>\n",
       "    </g>\n",
       "</svg>\n",
       "  </button>\n",
       "\n",
       "<style>\n",
       "  .colab-df-quickchart {\n",
       "      --bg-color: #E8F0FE;\n",
       "      --fill-color: #1967D2;\n",
       "      --hover-bg-color: #E2EBFA;\n",
       "      --hover-fill-color: #174EA6;\n",
       "      --disabled-fill-color: #AAA;\n",
       "      --disabled-bg-color: #DDD;\n",
       "  }\n",
       "\n",
       "  [theme=dark] .colab-df-quickchart {\n",
       "      --bg-color: #3B4455;\n",
       "      --fill-color: #D2E3FC;\n",
       "      --hover-bg-color: #434B5C;\n",
       "      --hover-fill-color: #FFFFFF;\n",
       "      --disabled-bg-color: #3B4455;\n",
       "      --disabled-fill-color: #666;\n",
       "  }\n",
       "\n",
       "  .colab-df-quickchart {\n",
       "    background-color: var(--bg-color);\n",
       "    border: none;\n",
       "    border-radius: 50%;\n",
       "    cursor: pointer;\n",
       "    display: none;\n",
       "    fill: var(--fill-color);\n",
       "    height: 32px;\n",
       "    padding: 0;\n",
       "    width: 32px;\n",
       "  }\n",
       "\n",
       "  .colab-df-quickchart:hover {\n",
       "    background-color: var(--hover-bg-color);\n",
       "    box-shadow: 0 1px 2px rgba(60, 64, 67, 0.3), 0 1px 3px 1px rgba(60, 64, 67, 0.15);\n",
       "    fill: var(--button-hover-fill-color);\n",
       "  }\n",
       "\n",
       "  .colab-df-quickchart-complete:disabled,\n",
       "  .colab-df-quickchart-complete:disabled:hover {\n",
       "    background-color: var(--disabled-bg-color);\n",
       "    fill: var(--disabled-fill-color);\n",
       "    box-shadow: none;\n",
       "  }\n",
       "\n",
       "  .colab-df-spinner {\n",
       "    border: 2px solid var(--fill-color);\n",
       "    border-color: transparent;\n",
       "    border-bottom-color: var(--fill-color);\n",
       "    animation:\n",
       "      spin 1s steps(1) infinite;\n",
       "  }\n",
       "\n",
       "  @keyframes spin {\n",
       "    0% {\n",
       "      border-color: transparent;\n",
       "      border-bottom-color: var(--fill-color);\n",
       "      border-left-color: var(--fill-color);\n",
       "    }\n",
       "    20% {\n",
       "      border-color: transparent;\n",
       "      border-left-color: var(--fill-color);\n",
       "      border-top-color: var(--fill-color);\n",
       "    }\n",
       "    30% {\n",
       "      border-color: transparent;\n",
       "      border-left-color: var(--fill-color);\n",
       "      border-top-color: var(--fill-color);\n",
       "      border-right-color: var(--fill-color);\n",
       "    }\n",
       "    40% {\n",
       "      border-color: transparent;\n",
       "      border-right-color: var(--fill-color);\n",
       "      border-top-color: var(--fill-color);\n",
       "    }\n",
       "    60% {\n",
       "      border-color: transparent;\n",
       "      border-right-color: var(--fill-color);\n",
       "    }\n",
       "    80% {\n",
       "      border-color: transparent;\n",
       "      border-right-color: var(--fill-color);\n",
       "      border-bottom-color: var(--fill-color);\n",
       "    }\n",
       "    90% {\n",
       "      border-color: transparent;\n",
       "      border-bottom-color: var(--fill-color);\n",
       "    }\n",
       "  }\n",
       "</style>\n",
       "\n",
       "  <script>\n",
       "    async function quickchart(key) {\n",
       "      const quickchartButtonEl =\n",
       "        document.querySelector('#' + key + ' button');\n",
       "      quickchartButtonEl.disabled = true;  // To prevent multiple clicks.\n",
       "      quickchartButtonEl.classList.add('colab-df-spinner');\n",
       "      try {\n",
       "        const charts = await google.colab.kernel.invokeFunction(\n",
       "            'suggestCharts', [key], {});\n",
       "      } catch (error) {\n",
       "        console.error('Error during call to suggestCharts:', error);\n",
       "      }\n",
       "      quickchartButtonEl.classList.remove('colab-df-spinner');\n",
       "      quickchartButtonEl.classList.add('colab-df-quickchart-complete');\n",
       "    }\n",
       "    (() => {\n",
       "      let quickchartButtonEl =\n",
       "        document.querySelector('#df-00d0552f-a5f6-4c1b-9e92-c956bf33a67a button');\n",
       "      quickchartButtonEl.style.display =\n",
       "        google.colab.kernel.accessAllowed ? 'block' : 'none';\n",
       "    })();\n",
       "  </script>\n",
       "</div>\n",
       "\n",
       "    </div>\n",
       "  </div>\n"
      ],
      "text/plain": [
       "     country  sellers  topsellers  topsellerratio  femalesellersratio  \\\n",
       "0     Taiwan        1           1           100.0               100.0   \n",
       "1  Slovaquie        2           1            50.0                 0.0   \n",
       "2   Lettonie        4           2            50.0               100.0   \n",
       "3   Bulgarie        9           4            44.4                66.7   \n",
       "4     Chypre        4           1            25.0               100.0   \n",
       "\n",
       "   topfemalesellersratio  femalesellers  malesellers  topfemalesellers  \\\n",
       "0                  100.0              1            0                 1   \n",
       "1                    0.0              0            2                 0   \n",
       "2                  100.0              4            0                 2   \n",
       "3                  100.0              6            3                 4   \n",
       "4                  100.0              4            0                 1   \n",
       "\n",
       "   topmalesellers  ...  topmeanproductssold  topmeanproductslisted  \\\n",
       "0               0  ...                57.00                  56.00   \n",
       "1               1  ...                27.00                  14.00   \n",
       "2               0  ...                40.50                  18.00   \n",
       "3               0  ...                36.25                  17.25   \n",
       "4               0  ...                41.00                  66.00   \n",
       "\n",
       "   meanproductssold  meanproductslisted  meanofflinedays  topmeanofflinedays  \\\n",
       "0         57.000000           56.000000             11.0                11.0   \n",
       "1         14.000000            7.000000             17.0                15.0   \n",
       "2         20.750000            9.000000            120.3                11.5   \n",
       "3         18.888889            9.111111             98.3                19.0   \n",
       "4         14.000000           20.250000             17.3                11.0   \n",
       "\n",
       "   meanfollowers  meanfollowing  topmeanfollowers  topmeanfollowing  \n",
       "0           83.0            8.0              83.0               8.0  \n",
       "1           10.5            8.5              15.0               8.0  \n",
       "2           21.0           52.3              38.0              98.5  \n",
       "3           28.6           31.6              46.3              19.0  \n",
       "4           21.3           10.3              39.0              17.0  \n",
       "\n",
       "[5 rows x 26 columns]"
      ]
     },
     "execution_count": 24,
     "metadata": {},
     "output_type": "execute_result"
    }
   ],
   "source": [
    "ds.head() #display first five row"
   ]
  },
  {
   "cell_type": "code",
   "execution_count": 4,
   "id": "8gz22yeYay9T",
   "metadata": {
    "colab": {
     "base_uri": "https://localhost:8080/",
     "height": 349
    },
    "id": "8gz22yeYay9T",
    "outputId": "4ead87c1-8fea-414e-8ee8-b29cd39fa739"
   },
   "outputs": [
    {
     "data": {
      "application/vnd.google.colaboratory.intrinsic+json": {
       "type": "dataframe"
      },
      "text/html": [
       "\n",
       "  <div id=\"df-dc7c7b85-fee0-4c67-9a78-a179919d1112\" class=\"colab-df-container\">\n",
       "    <div>\n",
       "<style scoped>\n",
       "    .dataframe tbody tr th:only-of-type {\n",
       "        vertical-align: middle;\n",
       "    }\n",
       "\n",
       "    .dataframe tbody tr th {\n",
       "        vertical-align: top;\n",
       "    }\n",
       "\n",
       "    .dataframe thead th {\n",
       "        text-align: right;\n",
       "    }\n",
       "</style>\n",
       "<table border=\"1\" class=\"dataframe\">\n",
       "  <thead>\n",
       "    <tr style=\"text-align: right;\">\n",
       "      <th></th>\n",
       "      <th>sellers</th>\n",
       "      <th>topsellers</th>\n",
       "      <th>topsellerratio</th>\n",
       "      <th>femalesellersratio</th>\n",
       "      <th>topfemalesellersratio</th>\n",
       "      <th>femalesellers</th>\n",
       "      <th>malesellers</th>\n",
       "      <th>topfemalesellers</th>\n",
       "      <th>topmalesellers</th>\n",
       "      <th>countrysoldratio</th>\n",
       "      <th>...</th>\n",
       "      <th>topmeanproductssold</th>\n",
       "      <th>topmeanproductslisted</th>\n",
       "      <th>meanproductssold</th>\n",
       "      <th>meanproductslisted</th>\n",
       "      <th>meanofflinedays</th>\n",
       "      <th>topmeanofflinedays</th>\n",
       "      <th>meanfollowers</th>\n",
       "      <th>meanfollowing</th>\n",
       "      <th>topmeanfollowers</th>\n",
       "      <th>topmeanfollowing</th>\n",
       "    </tr>\n",
       "  </thead>\n",
       "  <tbody>\n",
       "    <tr>\n",
       "      <th>count</th>\n",
       "      <td>19.000000</td>\n",
       "      <td>19.000000</td>\n",
       "      <td>19.000000</td>\n",
       "      <td>19.000000</td>\n",
       "      <td>19.000000</td>\n",
       "      <td>19.000000</td>\n",
       "      <td>19.000000</td>\n",
       "      <td>19.000000</td>\n",
       "      <td>19.000000</td>\n",
       "      <td>19.000000</td>\n",
       "      <td>...</td>\n",
       "      <td>19.000000</td>\n",
       "      <td>19.000000</td>\n",
       "      <td>19.000000</td>\n",
       "      <td>19.000000</td>\n",
       "      <td>19.000000</td>\n",
       "      <td>19.000000</td>\n",
       "      <td>19.000000</td>\n",
       "      <td>19.000000</td>\n",
       "      <td>19.000000</td>\n",
       "      <td>19.000000</td>\n",
       "    </tr>\n",
       "    <tr>\n",
       "      <th>mean</th>\n",
       "      <td>99.578947</td>\n",
       "      <td>6.631579</td>\n",
       "      <td>20.968421</td>\n",
       "      <td>78.778947</td>\n",
       "      <td>80.963158</td>\n",
       "      <td>75.368421</td>\n",
       "      <td>24.210526</td>\n",
       "      <td>5.105263</td>\n",
       "      <td>1.526316</td>\n",
       "      <td>2.032632</td>\n",
       "      <td>...</td>\n",
       "      <td>50.026688</td>\n",
       "      <td>30.124714</td>\n",
       "      <td>12.966926</td>\n",
       "      <td>8.582865</td>\n",
       "      <td>122.631579</td>\n",
       "      <td>23.757895</td>\n",
       "      <td>19.752632</td>\n",
       "      <td>17.389474</td>\n",
       "      <td>55.310526</td>\n",
       "      <td>56.389474</td>\n",
       "    </tr>\n",
       "    <tr>\n",
       "      <th>std</th>\n",
       "      <td>178.948570</td>\n",
       "      <td>9.804820</td>\n",
       "      <td>24.430174</td>\n",
       "      <td>22.167182</td>\n",
       "      <td>26.052025</td>\n",
       "      <td>131.976097</td>\n",
       "      <td>47.390317</td>\n",
       "      <td>7.194865</td>\n",
       "      <td>2.874571</td>\n",
       "      <td>1.616621</td>\n",
       "      <td>...</td>\n",
       "      <td>34.374679</td>\n",
       "      <td>19.263995</td>\n",
       "      <td>13.502800</td>\n",
       "      <td>12.208144</td>\n",
       "      <td>73.153940</td>\n",
       "      <td>20.889453</td>\n",
       "      <td>17.128448</td>\n",
       "      <td>14.551552</td>\n",
       "      <td>36.883012</td>\n",
       "      <td>103.303425</td>\n",
       "    </tr>\n",
       "    <tr>\n",
       "      <th>min</th>\n",
       "      <td>1.000000</td>\n",
       "      <td>1.000000</td>\n",
       "      <td>3.500000</td>\n",
       "      <td>0.000000</td>\n",
       "      <td>0.000000</td>\n",
       "      <td>0.000000</td>\n",
       "      <td>0.000000</td>\n",
       "      <td>0.000000</td>\n",
       "      <td>0.000000</td>\n",
       "      <td>0.690000</td>\n",
       "      <td>...</td>\n",
       "      <td>20.000000</td>\n",
       "      <td>0.000000</td>\n",
       "      <td>3.722222</td>\n",
       "      <td>1.142857</td>\n",
       "      <td>11.000000</td>\n",
       "      <td>11.000000</td>\n",
       "      <td>7.000000</td>\n",
       "      <td>8.000000</td>\n",
       "      <td>15.000000</td>\n",
       "      <td>3.000000</td>\n",
       "    </tr>\n",
       "    <tr>\n",
       "      <th>25%</th>\n",
       "      <td>6.000000</td>\n",
       "      <td>1.000000</td>\n",
       "      <td>6.450000</td>\n",
       "      <td>74.300000</td>\n",
       "      <td>71.800000</td>\n",
       "      <td>5.500000</td>\n",
       "      <td>0.500000</td>\n",
       "      <td>1.000000</td>\n",
       "      <td>0.000000</td>\n",
       "      <td>1.230000</td>\n",
       "      <td>...</td>\n",
       "      <td>28.500000</td>\n",
       "      <td>18.500000</td>\n",
       "      <td>5.167766</td>\n",
       "      <td>2.930594</td>\n",
       "      <td>62.600000</td>\n",
       "      <td>11.000000</td>\n",
       "      <td>10.800000</td>\n",
       "      <td>8.700000</td>\n",
       "      <td>36.650000</td>\n",
       "      <td>8.550000</td>\n",
       "    </tr>\n",
       "    <tr>\n",
       "      <th>50%</th>\n",
       "      <td>13.000000</td>\n",
       "      <td>2.000000</td>\n",
       "      <td>10.100000</td>\n",
       "      <td>78.700000</td>\n",
       "      <td>85.700000</td>\n",
       "      <td>10.000000</td>\n",
       "      <td>3.000000</td>\n",
       "      <td>1.000000</td>\n",
       "      <td>1.000000</td>\n",
       "      <td>1.590000</td>\n",
       "      <td>...</td>\n",
       "      <td>41.000000</td>\n",
       "      <td>21.380952</td>\n",
       "      <td>8.126801</td>\n",
       "      <td>5.500000</td>\n",
       "      <td>121.600000</td>\n",
       "      <td>12.700000</td>\n",
       "      <td>15.100000</td>\n",
       "      <td>10.200000</td>\n",
       "      <td>46.300000</td>\n",
       "      <td>14.500000</td>\n",
       "    </tr>\n",
       "    <tr>\n",
       "      <th>75%</th>\n",
       "      <td>112.000000</td>\n",
       "      <td>5.500000</td>\n",
       "      <td>22.500000</td>\n",
       "      <td>92.850000</td>\n",
       "      <td>100.000000</td>\n",
       "      <td>88.000000</td>\n",
       "      <td>24.000000</td>\n",
       "      <td>4.500000</td>\n",
       "      <td>1.000000</td>\n",
       "      <td>2.015000</td>\n",
       "      <td>...</td>\n",
       "      <td>56.700000</td>\n",
       "      <td>39.500000</td>\n",
       "      <td>14.000000</td>\n",
       "      <td>7.109375</td>\n",
       "      <td>172.800000</td>\n",
       "      <td>28.500000</td>\n",
       "      <td>20.400000</td>\n",
       "      <td>19.750000</td>\n",
       "      <td>58.300000</td>\n",
       "      <td>36.500000</td>\n",
       "    </tr>\n",
       "    <tr>\n",
       "      <th>max</th>\n",
       "      <td>713.000000</td>\n",
       "      <td>35.000000</td>\n",
       "      <td>100.000000</td>\n",
       "      <td>100.000000</td>\n",
       "      <td>100.000000</td>\n",
       "      <td>523.000000</td>\n",
       "      <td>190.000000</td>\n",
       "      <td>23.000000</td>\n",
       "      <td>12.000000</td>\n",
       "      <td>7.310000</td>\n",
       "      <td>...</td>\n",
       "      <td>170.000000</td>\n",
       "      <td>71.333333</td>\n",
       "      <td>57.000000</td>\n",
       "      <td>56.000000</td>\n",
       "      <td>266.100000</td>\n",
       "      <td>79.400000</td>\n",
       "      <td>83.000000</td>\n",
       "      <td>54.600000</td>\n",
       "      <td>167.000000</td>\n",
       "      <td>429.300000</td>\n",
       "    </tr>\n",
       "  </tbody>\n",
       "</table>\n",
       "<p>8 rows × 25 columns</p>\n",
       "</div>\n",
       "    <div class=\"colab-df-buttons\">\n",
       "\n",
       "  <div class=\"colab-df-container\">\n",
       "    <button class=\"colab-df-convert\" onclick=\"convertToInteractive('df-dc7c7b85-fee0-4c67-9a78-a179919d1112')\"\n",
       "            title=\"Convert this dataframe to an interactive table.\"\n",
       "            style=\"display:none;\">\n",
       "\n",
       "  <svg xmlns=\"http://www.w3.org/2000/svg\" height=\"24px\" viewBox=\"0 -960 960 960\">\n",
       "    <path d=\"M120-120v-720h720v720H120Zm60-500h600v-160H180v160Zm220 220h160v-160H400v160Zm0 220h160v-160H400v160ZM180-400h160v-160H180v160Zm440 0h160v-160H620v160ZM180-180h160v-160H180v160Zm440 0h160v-160H620v160Z\"/>\n",
       "  </svg>\n",
       "    </button>\n",
       "\n",
       "  <style>\n",
       "    .colab-df-container {\n",
       "      display:flex;\n",
       "      gap: 12px;\n",
       "    }\n",
       "\n",
       "    .colab-df-convert {\n",
       "      background-color: #E8F0FE;\n",
       "      border: none;\n",
       "      border-radius: 50%;\n",
       "      cursor: pointer;\n",
       "      display: none;\n",
       "      fill: #1967D2;\n",
       "      height: 32px;\n",
       "      padding: 0 0 0 0;\n",
       "      width: 32px;\n",
       "    }\n",
       "\n",
       "    .colab-df-convert:hover {\n",
       "      background-color: #E2EBFA;\n",
       "      box-shadow: 0px 1px 2px rgba(60, 64, 67, 0.3), 0px 1px 3px 1px rgba(60, 64, 67, 0.15);\n",
       "      fill: #174EA6;\n",
       "    }\n",
       "\n",
       "    .colab-df-buttons div {\n",
       "      margin-bottom: 4px;\n",
       "    }\n",
       "\n",
       "    [theme=dark] .colab-df-convert {\n",
       "      background-color: #3B4455;\n",
       "      fill: #D2E3FC;\n",
       "    }\n",
       "\n",
       "    [theme=dark] .colab-df-convert:hover {\n",
       "      background-color: #434B5C;\n",
       "      box-shadow: 0px 1px 3px 1px rgba(0, 0, 0, 0.15);\n",
       "      filter: drop-shadow(0px 1px 2px rgba(0, 0, 0, 0.3));\n",
       "      fill: #FFFFFF;\n",
       "    }\n",
       "  </style>\n",
       "\n",
       "    <script>\n",
       "      const buttonEl =\n",
       "        document.querySelector('#df-dc7c7b85-fee0-4c67-9a78-a179919d1112 button.colab-df-convert');\n",
       "      buttonEl.style.display =\n",
       "        google.colab.kernel.accessAllowed ? 'block' : 'none';\n",
       "\n",
       "      async function convertToInteractive(key) {\n",
       "        const element = document.querySelector('#df-dc7c7b85-fee0-4c67-9a78-a179919d1112');\n",
       "        const dataTable =\n",
       "          await google.colab.kernel.invokeFunction('convertToInteractive',\n",
       "                                                    [key], {});\n",
       "        if (!dataTable) return;\n",
       "\n",
       "        const docLinkHtml = 'Like what you see? Visit the ' +\n",
       "          '<a target=\"_blank\" href=https://colab.research.google.com/notebooks/data_table.ipynb>data table notebook</a>'\n",
       "          + ' to learn more about interactive tables.';\n",
       "        element.innerHTML = '';\n",
       "        dataTable['output_type'] = 'display_data';\n",
       "        await google.colab.output.renderOutput(dataTable, element);\n",
       "        const docLink = document.createElement('div');\n",
       "        docLink.innerHTML = docLinkHtml;\n",
       "        element.appendChild(docLink);\n",
       "      }\n",
       "    </script>\n",
       "  </div>\n",
       "\n",
       "\n",
       "<div id=\"df-492f96f2-f306-40e3-8d56-6b901d077239\">\n",
       "  <button class=\"colab-df-quickchart\" onclick=\"quickchart('df-492f96f2-f306-40e3-8d56-6b901d077239')\"\n",
       "            title=\"Suggest charts\"\n",
       "            style=\"display:none;\">\n",
       "\n",
       "<svg xmlns=\"http://www.w3.org/2000/svg\" height=\"24px\"viewBox=\"0 0 24 24\"\n",
       "     width=\"24px\">\n",
       "    <g>\n",
       "        <path d=\"M19 3H5c-1.1 0-2 .9-2 2v14c0 1.1.9 2 2 2h14c1.1 0 2-.9 2-2V5c0-1.1-.9-2-2-2zM9 17H7v-7h2v7zm4 0h-2V7h2v10zm4 0h-2v-4h2v4z\"/>\n",
       "    </g>\n",
       "</svg>\n",
       "  </button>\n",
       "\n",
       "<style>\n",
       "  .colab-df-quickchart {\n",
       "      --bg-color: #E8F0FE;\n",
       "      --fill-color: #1967D2;\n",
       "      --hover-bg-color: #E2EBFA;\n",
       "      --hover-fill-color: #174EA6;\n",
       "      --disabled-fill-color: #AAA;\n",
       "      --disabled-bg-color: #DDD;\n",
       "  }\n",
       "\n",
       "  [theme=dark] .colab-df-quickchart {\n",
       "      --bg-color: #3B4455;\n",
       "      --fill-color: #D2E3FC;\n",
       "      --hover-bg-color: #434B5C;\n",
       "      --hover-fill-color: #FFFFFF;\n",
       "      --disabled-bg-color: #3B4455;\n",
       "      --disabled-fill-color: #666;\n",
       "  }\n",
       "\n",
       "  .colab-df-quickchart {\n",
       "    background-color: var(--bg-color);\n",
       "    border: none;\n",
       "    border-radius: 50%;\n",
       "    cursor: pointer;\n",
       "    display: none;\n",
       "    fill: var(--fill-color);\n",
       "    height: 32px;\n",
       "    padding: 0;\n",
       "    width: 32px;\n",
       "  }\n",
       "\n",
       "  .colab-df-quickchart:hover {\n",
       "    background-color: var(--hover-bg-color);\n",
       "    box-shadow: 0 1px 2px rgba(60, 64, 67, 0.3), 0 1px 3px 1px rgba(60, 64, 67, 0.15);\n",
       "    fill: var(--button-hover-fill-color);\n",
       "  }\n",
       "\n",
       "  .colab-df-quickchart-complete:disabled,\n",
       "  .colab-df-quickchart-complete:disabled:hover {\n",
       "    background-color: var(--disabled-bg-color);\n",
       "    fill: var(--disabled-fill-color);\n",
       "    box-shadow: none;\n",
       "  }\n",
       "\n",
       "  .colab-df-spinner {\n",
       "    border: 2px solid var(--fill-color);\n",
       "    border-color: transparent;\n",
       "    border-bottom-color: var(--fill-color);\n",
       "    animation:\n",
       "      spin 1s steps(1) infinite;\n",
       "  }\n",
       "\n",
       "  @keyframes spin {\n",
       "    0% {\n",
       "      border-color: transparent;\n",
       "      border-bottom-color: var(--fill-color);\n",
       "      border-left-color: var(--fill-color);\n",
       "    }\n",
       "    20% {\n",
       "      border-color: transparent;\n",
       "      border-left-color: var(--fill-color);\n",
       "      border-top-color: var(--fill-color);\n",
       "    }\n",
       "    30% {\n",
       "      border-color: transparent;\n",
       "      border-left-color: var(--fill-color);\n",
       "      border-top-color: var(--fill-color);\n",
       "      border-right-color: var(--fill-color);\n",
       "    }\n",
       "    40% {\n",
       "      border-color: transparent;\n",
       "      border-right-color: var(--fill-color);\n",
       "      border-top-color: var(--fill-color);\n",
       "    }\n",
       "    60% {\n",
       "      border-color: transparent;\n",
       "      border-right-color: var(--fill-color);\n",
       "    }\n",
       "    80% {\n",
       "      border-color: transparent;\n",
       "      border-right-color: var(--fill-color);\n",
       "      border-bottom-color: var(--fill-color);\n",
       "    }\n",
       "    90% {\n",
       "      border-color: transparent;\n",
       "      border-bottom-color: var(--fill-color);\n",
       "    }\n",
       "  }\n",
       "</style>\n",
       "\n",
       "  <script>\n",
       "    async function quickchart(key) {\n",
       "      const quickchartButtonEl =\n",
       "        document.querySelector('#' + key + ' button');\n",
       "      quickchartButtonEl.disabled = true;  // To prevent multiple clicks.\n",
       "      quickchartButtonEl.classList.add('colab-df-spinner');\n",
       "      try {\n",
       "        const charts = await google.colab.kernel.invokeFunction(\n",
       "            'suggestCharts', [key], {});\n",
       "      } catch (error) {\n",
       "        console.error('Error during call to suggestCharts:', error);\n",
       "      }\n",
       "      quickchartButtonEl.classList.remove('colab-df-spinner');\n",
       "      quickchartButtonEl.classList.add('colab-df-quickchart-complete');\n",
       "    }\n",
       "    (() => {\n",
       "      let quickchartButtonEl =\n",
       "        document.querySelector('#df-492f96f2-f306-40e3-8d56-6b901d077239 button');\n",
       "      quickchartButtonEl.style.display =\n",
       "        google.colab.kernel.accessAllowed ? 'block' : 'none';\n",
       "    })();\n",
       "  </script>\n",
       "</div>\n",
       "\n",
       "    </div>\n",
       "  </div>\n"
      ],
      "text/plain": [
       "          sellers  topsellers  topsellerratio  femalesellersratio  \\\n",
       "count   19.000000   19.000000       19.000000           19.000000   \n",
       "mean    99.578947    6.631579       20.968421           78.778947   \n",
       "std    178.948570    9.804820       24.430174           22.167182   \n",
       "min      1.000000    1.000000        3.500000            0.000000   \n",
       "25%      6.000000    1.000000        6.450000           74.300000   \n",
       "50%     13.000000    2.000000       10.100000           78.700000   \n",
       "75%    112.000000    5.500000       22.500000           92.850000   \n",
       "max    713.000000   35.000000      100.000000          100.000000   \n",
       "\n",
       "       topfemalesellersratio  femalesellers  malesellers  topfemalesellers  \\\n",
       "count              19.000000      19.000000    19.000000         19.000000   \n",
       "mean               80.963158      75.368421    24.210526          5.105263   \n",
       "std                26.052025     131.976097    47.390317          7.194865   \n",
       "min                 0.000000       0.000000     0.000000          0.000000   \n",
       "25%                71.800000       5.500000     0.500000          1.000000   \n",
       "50%                85.700000      10.000000     3.000000          1.000000   \n",
       "75%               100.000000      88.000000    24.000000          4.500000   \n",
       "max               100.000000     523.000000   190.000000         23.000000   \n",
       "\n",
       "       topmalesellers  countrysoldratio  ...  topmeanproductssold  \\\n",
       "count       19.000000         19.000000  ...            19.000000   \n",
       "mean         1.526316          2.032632  ...            50.026688   \n",
       "std          2.874571          1.616621  ...            34.374679   \n",
       "min          0.000000          0.690000  ...            20.000000   \n",
       "25%          0.000000          1.230000  ...            28.500000   \n",
       "50%          1.000000          1.590000  ...            41.000000   \n",
       "75%          1.000000          2.015000  ...            56.700000   \n",
       "max         12.000000          7.310000  ...           170.000000   \n",
       "\n",
       "       topmeanproductslisted  meanproductssold  meanproductslisted  \\\n",
       "count              19.000000         19.000000           19.000000   \n",
       "mean               30.124714         12.966926            8.582865   \n",
       "std                19.263995         13.502800           12.208144   \n",
       "min                 0.000000          3.722222            1.142857   \n",
       "25%                18.500000          5.167766            2.930594   \n",
       "50%                21.380952          8.126801            5.500000   \n",
       "75%                39.500000         14.000000            7.109375   \n",
       "max                71.333333         57.000000           56.000000   \n",
       "\n",
       "       meanofflinedays  topmeanofflinedays  meanfollowers  meanfollowing  \\\n",
       "count        19.000000           19.000000      19.000000      19.000000   \n",
       "mean        122.631579           23.757895      19.752632      17.389474   \n",
       "std          73.153940           20.889453      17.128448      14.551552   \n",
       "min          11.000000           11.000000       7.000000       8.000000   \n",
       "25%          62.600000           11.000000      10.800000       8.700000   \n",
       "50%         121.600000           12.700000      15.100000      10.200000   \n",
       "75%         172.800000           28.500000      20.400000      19.750000   \n",
       "max         266.100000           79.400000      83.000000      54.600000   \n",
       "\n",
       "       topmeanfollowers  topmeanfollowing  \n",
       "count         19.000000         19.000000  \n",
       "mean          55.310526         56.389474  \n",
       "std           36.883012        103.303425  \n",
       "min           15.000000          3.000000  \n",
       "25%           36.650000          8.550000  \n",
       "50%           46.300000         14.500000  \n",
       "75%           58.300000         36.500000  \n",
       "max          167.000000        429.300000  \n",
       "\n",
       "[8 rows x 25 columns]"
      ]
     },
     "execution_count": 4,
     "metadata": {},
     "output_type": "execute_result"
    }
   ],
   "source": [
    "ds.describe() #summary"
   ]
  },
  {
   "cell_type": "code",
   "execution_count": 5,
   "id": "ebeb34b6",
   "metadata": {
    "colab": {
     "base_uri": "https://localhost:8080/"
    },
    "id": "ebeb34b6",
    "outputId": "97d02e3f-7848-4811-b4e1-db8698618849"
   },
   "outputs": [
    {
     "name": "stdout",
     "output_type": "stream",
     "text": [
      "<class 'pandas.core.frame.DataFrame'>\n",
      "RangeIndex: 19 entries, 0 to 18\n",
      "Data columns (total 26 columns):\n",
      " #   Column                  Non-Null Count  Dtype  \n",
      "---  ------                  --------------  -----  \n",
      " 0   country                 19 non-null     object \n",
      " 1   sellers                 19 non-null     int64  \n",
      " 2   topsellers              19 non-null     int64  \n",
      " 3   topsellerratio          19 non-null     float64\n",
      " 4   femalesellersratio      19 non-null     float64\n",
      " 5   topfemalesellersratio   19 non-null     float64\n",
      " 6   femalesellers           19 non-null     int64  \n",
      " 7   malesellers             19 non-null     int64  \n",
      " 8   topfemalesellers        19 non-null     int64  \n",
      " 9   topmalesellers          19 non-null     int64  \n",
      " 10  countrysoldratio        19 non-null     float64\n",
      " 11  bestsoldratio           19 non-null     float64\n",
      " 12  toptotalproductssold    19 non-null     int64  \n",
      " 13  totalproductssold       19 non-null     int64  \n",
      " 14  toptotalproductslisted  19 non-null     int64  \n",
      " 15  totalproductslisted     19 non-null     int64  \n",
      " 16  topmeanproductssold     19 non-null     float64\n",
      " 17  topmeanproductslisted   19 non-null     float64\n",
      " 18  meanproductssold        19 non-null     float64\n",
      " 19  meanproductslisted      19 non-null     float64\n",
      " 20  meanofflinedays         19 non-null     float64\n",
      " 21  topmeanofflinedays      19 non-null     float64\n",
      " 22  meanfollowers           19 non-null     float64\n",
      " 23  meanfollowing           19 non-null     float64\n",
      " 24  topmeanfollowers        19 non-null     float64\n",
      " 25  topmeanfollowing        19 non-null     float64\n",
      "dtypes: float64(15), int64(10), object(1)\n",
      "memory usage: 4.0+ KB\n"
     ]
    }
   ],
   "source": [
    "ds.info()"
   ]
  },
  {
   "cell_type": "code",
   "execution_count": 6,
   "id": "KGGj8M9Sa9rU",
   "metadata": {
    "colab": {
     "base_uri": "https://localhost:8080/"
    },
    "id": "KGGj8M9Sa9rU",
    "outputId": "6c09ca42-56fa-4845-d564-14c34f843c17"
   },
   "outputs": [
    {
     "data": {
      "text/plain": [
       "country                    object\n",
       "sellers                     int64\n",
       "topsellers                  int64\n",
       "topsellerratio            float64\n",
       "femalesellersratio        float64\n",
       "topfemalesellersratio     float64\n",
       "femalesellers               int64\n",
       "malesellers                 int64\n",
       "topfemalesellers            int64\n",
       "topmalesellers              int64\n",
       "countrysoldratio          float64\n",
       "bestsoldratio             float64\n",
       "toptotalproductssold        int64\n",
       "totalproductssold           int64\n",
       "toptotalproductslisted      int64\n",
       "totalproductslisted         int64\n",
       "topmeanproductssold       float64\n",
       "topmeanproductslisted     float64\n",
       "meanproductssold          float64\n",
       "meanproductslisted        float64\n",
       "meanofflinedays           float64\n",
       "topmeanofflinedays        float64\n",
       "meanfollowers             float64\n",
       "meanfollowing             float64\n",
       "topmeanfollowers          float64\n",
       "topmeanfollowing          float64\n",
       "dtype: object"
      ]
     },
     "execution_count": 6,
     "metadata": {},
     "output_type": "execute_result"
    }
   ],
   "source": [
    "ds.dtypes"
   ]
  },
  {
   "cell_type": "code",
   "execution_count": 7,
   "id": "33JswGllfO9m",
   "metadata": {
    "colab": {
     "base_uri": "https://localhost:8080/"
    },
    "id": "33JswGllfO9m",
    "outputId": "0137a8bb-baaf-41fe-c89c-60cea1b0ed1c"
   },
   "outputs": [
    {
     "data": {
      "text/plain": [
       "country                   0\n",
       "sellers                   0\n",
       "topsellers                0\n",
       "topsellerratio            0\n",
       "femalesellersratio        0\n",
       "topfemalesellersratio     0\n",
       "femalesellers             0\n",
       "malesellers               0\n",
       "topfemalesellers          0\n",
       "topmalesellers            0\n",
       "countrysoldratio          0\n",
       "bestsoldratio             0\n",
       "toptotalproductssold      0\n",
       "totalproductssold         0\n",
       "toptotalproductslisted    0\n",
       "totalproductslisted       0\n",
       "topmeanproductssold       0\n",
       "topmeanproductslisted     0\n",
       "meanproductssold          0\n",
       "meanproductslisted        0\n",
       "meanofflinedays           0\n",
       "topmeanofflinedays        0\n",
       "meanfollowers             0\n",
       "meanfollowing             0\n",
       "topmeanfollowers          0\n",
       "topmeanfollowing          0\n",
       "dtype: int64"
      ]
     },
     "execution_count": 7,
     "metadata": {},
     "output_type": "execute_result"
    }
   ],
   "source": [
    "ds.isnull().sum()"
   ]
  },
  {
   "cell_type": "markdown",
   "id": "f65e773a",
   "metadata": {
    "id": "f65e773a"
   },
   "source": [
    "# Visualize your data"
   ]
  },
  {
   "cell_type": "code",
   "execution_count": 8,
   "id": "mFIvYDcfhEFK",
   "metadata": {
    "colab": {
     "base_uri": "https://localhost:8080/",
     "height": 1000
    },
    "id": "mFIvYDcfhEFK",
    "outputId": "33875231-ad15-4bdc-8fd4-fe231cc1ac7d"
   },
   "outputs": [
    {
     "data": {
      "image/png": "[encoded data removed]",
      "text/plain": [
       "<Figure size 1000x600 with 1 Axes>"
      ]
     },
     "metadata": {},
     "output_type": "display_data"
    },
    {
     "data": {
      "image/png": "[encoded data removed]",
      "text/plain": [
       "<Figure size 1000x600 with 1 Axes>"
      ]
     },
     "metadata": {},
     "output_type": "display_data"
    },
    {
     "data": {
      "image/png": "[encoded data removed]",
      "text/plain": [
       "<Figure size 1000x600 with 1 Axes>"
      ]
     },
     "metadata": {},
     "output_type": "display_data"
    }
   ],
   "source": [
    "# Histogram for 'topsellers'\n",
    "plt.figure(figsize=(10,6))\n",
    "sns.histplot(data=ds, x='topsellers', bins=30)\n",
    "plt.title('Distribution of Top Sellers')\n",
    "plt.show()\n",
    "\n",
    "# Histogram for 'toptotalproductslisted'\n",
    "plt.figure(figsize=(10,6))\n",
    "sns.histplot(data=ds, x='toptotalproductslisted', bins=30)\n",
    "plt.title('Distribution of Total Products Listed')\n",
    "plt.show()\n",
    "\n",
    "# Scatter plot for 'topsellers' vs 'toptotalproductslisted'\n",
    "plt.figure(figsize=(10,6))\n",
    "sns.scatterplot(data=ds, x='topsellers', y='toptotalproductslisted')\n",
    "plt.title('Top Sellers vs Total Products Listed')\n",
    "plt.show()"
   ]
  },
  {
   "cell_type": "markdown",
   "id": "i4F4XAkR4-md",
   "metadata": {
    "id": "i4F4XAkR4-md"
   },
   "source": [
    "\n",
    "\n",
    "*   Based on the scatter plot, there is no strong correlation between the number of top sellers and the total products listed. Most of the data points are concentrated towards the lower left corner of the plot, possibly because most of the top sellers have a low to moderate number of products listed.\n",
    "\n",
    "* However, there are a few outliers, especially one data point near on top of the graph. There is a top seller who has a significantly higher number of total products listed compared to others.\n",
    "\n",
    "* While there are a few top sellers with a high number of products listed, the majority have fewer products listed. Therefore, we can see that a top seller is not necessarily need to have a variety of products, but perhaps it is more important on the fact of the quality of the products, marketing, customer service, or other factors."
   ]
  },
  {
   "cell_type": "markdown",
   "id": "2e27d0f0",
   "metadata": {
    "id": "2e27d0f0"
   },
   "source": [
    "# Slice dataset\n",
    "\n",
    "2 topsellers<br>\n",
    "\n",
    "15 totalproductslisted"
   ]
  },
  {
   "cell_type": "code",
   "execution_count": 10,
   "id": "1a943407",
   "metadata": {
    "colab": {
     "base_uri": "https://localhost:8080/"
    },
    "id": "1a943407",
    "outputId": "b8f97806-8245-4668-9bf4-84a438f4c445"
   },
   "outputs": [
    {
     "name": "stdout",
     "output_type": "stream",
     "text": [
      "[['Taiwan' 1 56]\n",
      " ['Slovaquie' 1 14]\n",
      " ['Lettonie' 2 36]\n",
      " ['Bulgarie' 4 82]\n",
      " ['Chypre' 1 81]\n",
      " ['Monaco' 1 26]\n",
      " ['Roumanie' 2 77]\n",
      " ['Luxembourg' 1 8]\n",
      " ['Espagne' 13 594]\n",
      " ['Italie' 35 2218]\n",
      " ['Croatie' 1 69]\n",
      " ['Hong Kong' 1 55]\n",
      " ['Suède' 3 231]\n",
      " ['Royaume-Uni' 21 927]\n",
      " ['Autriche' 1 37]\n",
      " ['Allemagne' 5 264]\n",
      " ['Etats-Unis' 6 816]\n",
      " ['Pays-Bas' 2 139]\n",
      " ['France' 25 1892]]\n"
     ]
    }
   ],
   "source": [
    "#slice the data\n",
    "X = ds.iloc[:, [0,2, 15]].values\n",
    "\n",
    "# Print the selected data\n",
    "print(X)"
   ]
  },
  {
   "cell_type": "markdown",
   "id": "e9d702e0",
   "metadata": {
    "id": "e9d702e0"
   },
   "source": [
    "# Normalize dataset"
   ]
  },
  {
   "cell_type": "code",
   "execution_count": 11,
   "id": "SHCzzRXqmviK",
   "metadata": {
    "colab": {
     "base_uri": "https://localhost:8080/"
    },
    "id": "SHCzzRXqmviK",
    "outputId": "d1e0302b-d38e-4b30-8caa-36d81ac2796b"
   },
   "outputs": [
    {
     "name": "stdout",
     "output_type": "stream",
     "text": [
      "[[-0.59010743 -0.54952639]\n",
      " [-0.59010743 -0.61639466]\n",
      " [-0.485322   -0.58136842]\n",
      " [-0.27575114 -0.50813176]\n",
      " [-0.59010743 -0.50972386]\n",
      " [-0.59010743 -0.59728944]\n",
      " [-0.485322   -0.51609226]\n",
      " [-0.59010743 -0.62594726]\n",
      " [ 0.66731775  0.3070242 ]\n",
      " [ 2.97259724  2.892597  ]\n",
      " [-0.59010743 -0.52882907]\n",
      " [-0.59010743 -0.5511185 ]\n",
      " [-0.38053657 -0.27090864]\n",
      " [ 1.5056012   0.83719399]\n",
      " [-0.59010743 -0.57977632]\n",
      " [-0.1709657  -0.21836929]\n",
      " [-0.06618027  0.66047073]\n",
      " [-0.485322   -0.41738197]\n",
      " [ 1.92474292  2.37357192]]\n"
     ]
    }
   ],
   "source": [
    "from sklearn.preprocessing import StandardScaler\n",
    "\n",
    "# Now you can use StandardScaler\n",
    "ss = StandardScaler()\n",
    "X = ds.iloc[:, [2, 15]].values\n",
    "XX = ss.fit_transform(X)\n",
    "print(XX)\n"
   ]
  },
  {
   "cell_type": "markdown",
   "id": "e32d01b1",
   "metadata": {
    "id": "e32d01b1"
   },
   "source": [
    "# Use elbow method"
   ]
  },
  {
   "cell_type": "code",
   "execution_count": 12,
   "id": "474fdd39",
   "metadata": {
    "colab": {
     "base_uri": "https://localhost:8080/",
     "height": 839
    },
    "id": "474fdd39",
    "outputId": "9a05bdfa-6146-47fe-fb30-647caca4299f"
   },
   "outputs": [
    {
     "name": "stderr",
     "output_type": "stream",
     "text": [
      "/usr/local/lib/python3.10/dist-packages/sklearn/cluster/_kmeans.py:870: FutureWarning: The default value of `n_init` will change from 10 to 'auto' in 1.4. Set the value of `n_init` explicitly to suppress the warning\n",
      "  warnings.warn(\n",
      "/usr/local/lib/python3.10/dist-packages/sklearn/cluster/_kmeans.py:870: FutureWarning: The default value of `n_init` will change from 10 to 'auto' in 1.4. Set the value of `n_init` explicitly to suppress the warning\n",
      "  warnings.warn(\n",
      "/usr/local/lib/python3.10/dist-packages/sklearn/cluster/_kmeans.py:870: FutureWarning: The default value of `n_init` will change from 10 to 'auto' in 1.4. Set the value of `n_init` explicitly to suppress the warning\n",
      "  warnings.warn(\n",
      "/usr/local/lib/python3.10/dist-packages/sklearn/cluster/_kmeans.py:870: FutureWarning: The default value of `n_init` will change from 10 to 'auto' in 1.4. Set the value of `n_init` explicitly to suppress the warning\n",
      "  warnings.warn(\n",
      "/usr/local/lib/python3.10/dist-packages/sklearn/cluster/_kmeans.py:870: FutureWarning: The default value of `n_init` will change from 10 to 'auto' in 1.4. Set the value of `n_init` explicitly to suppress the warning\n",
      "  warnings.warn(\n",
      "/usr/local/lib/python3.10/dist-packages/sklearn/cluster/_kmeans.py:870: FutureWarning: The default value of `n_init` will change from 10 to 'auto' in 1.4. Set the value of `n_init` explicitly to suppress the warning\n",
      "  warnings.warn(\n",
      "/usr/local/lib/python3.10/dist-packages/sklearn/cluster/_kmeans.py:870: FutureWarning: The default value of `n_init` will change from 10 to 'auto' in 1.4. Set the value of `n_init` explicitly to suppress the warning\n",
      "  warnings.warn(\n",
      "/usr/local/lib/python3.10/dist-packages/sklearn/cluster/_kmeans.py:870: FutureWarning: The default value of `n_init` will change from 10 to 'auto' in 1.4. Set the value of `n_init` explicitly to suppress the warning\n",
      "  warnings.warn(\n",
      "/usr/local/lib/python3.10/dist-packages/sklearn/cluster/_kmeans.py:870: FutureWarning: The default value of `n_init` will change from 10 to 'auto' in 1.4. Set the value of `n_init` explicitly to suppress the warning\n",
      "  warnings.warn(\n",
      "/usr/local/lib/python3.10/dist-packages/sklearn/cluster/_kmeans.py:870: FutureWarning: The default value of `n_init` will change from 10 to 'auto' in 1.4. Set the value of `n_init` explicitly to suppress the warning\n",
      "  warnings.warn(\n"
     ]
    },
    {
     "data": {
      "image/png": "[encoded data removed]",
      "text/plain": [
       "<Figure size 640x480 with 1 Axes>"
      ]
     },
     "metadata": {},
     "output_type": "display_data"
    }
   ],
   "source": [
    "from sklearn.cluster import KMeans\n",
    "wcss = []\n",
    "for i in range(1, 11):\n",
    "    kmeans = KMeans(n_clusters = i, init = 'k-means++', random_state = 42)\n",
    "    kmeans.fit(X)\n",
    "    wcss.append(kmeans.inertia_)\n",
    "plt.plot(range(1, 11), wcss)\n",
    "plt.title('The Elbow Method')\n",
    "plt.xlabel('Number of clusters')\n",
    "plt.ylabel('WCSS')\n",
    "plt.show()"
   ]
  },
  {
   "cell_type": "markdown",
   "id": "zJ6OxIFuohcy",
   "metadata": {
    "id": "zJ6OxIFuohcy"
   },
   "source": [
    "Optimized number of clusters is 3."
   ]
  },
  {
   "cell_type": "markdown",
   "id": "47734dc4",
   "metadata": {
    "id": "47734dc4"
   },
   "source": [
    "# Clustering using Kmeans"
   ]
  },
  {
   "cell_type": "markdown",
   "id": "mnTBcs40ontu",
   "metadata": {
    "id": "mnTBcs40ontu"
   },
   "source": [
    "3 clusters.\n",
    "\n",
    "*   cluster 0\n",
    "*   cluster 1\n",
    "*   cluster 2"
   ]
  },
  {
   "cell_type": "code",
   "execution_count": 13,
   "id": "b46077c3",
   "metadata": {
    "colab": {
     "base_uri": "https://localhost:8080/"
    },
    "id": "b46077c3",
    "outputId": "09330b0c-7fc5-44ef-98f3-ad1ec6a54f29"
   },
   "outputs": [
    {
     "name": "stderr",
     "output_type": "stream",
     "text": [
      "/usr/local/lib/python3.10/dist-packages/sklearn/cluster/_kmeans.py:870: FutureWarning: The default value of `n_init` will change from 10 to 'auto' in 1.4. Set the value of `n_init` explicitly to suppress the warning\n",
      "  warnings.warn(\n"
     ]
    },
    {
     "data": {
      "text/plain": [
       "array([0, 0, 0, 0, 0, 0, 0, 0, 2, 1, 0, 0, 0, 2, 0, 0, 2, 0, 1],\n",
       "      dtype=int32)"
      ]
     },
     "execution_count": 13,
     "metadata": {},
     "output_type": "execute_result"
    }
   ],
   "source": [
    "kmeans3 = KMeans(n_clusters = 3, init = 'k-means++', random_state = 42)\n",
    "y_kmeans3 = kmeans3.fit_predict(XX)\n",
    "y_kmeans3  #perform reverse engineering"
   ]
  },
  {
   "cell_type": "code",
   "execution_count": 14,
   "id": "O8R7GCP0teuF",
   "metadata": {
    "colab": {
     "base_uri": "https://localhost:8080/"
    },
    "id": "O8R7GCP0teuF",
    "outputId": "3d416ae9-a56a-4b0f-a965-926d568a7fdf"
   },
   "outputs": [
    {
     "name": "stderr",
     "output_type": "stream",
     "text": [
      "/usr/local/lib/python3.10/dist-packages/sklearn/cluster/_kmeans.py:870: FutureWarning: The default value of `n_init` will change from 10 to 'auto' in 1.4. Set the value of `n_init` explicitly to suppress the warning\n",
      "  warnings.warn(\n"
     ]
    },
    {
     "data": {
      "text/plain": [
       "array([0, 0, 0, 0, 0, 0, 0, 0, 0, 1, 0, 0, 0, 1, 0, 0, 0, 0, 1],\n",
       "      dtype=int32)"
      ]
     },
     "execution_count": 14,
     "metadata": {},
     "output_type": "execute_result"
    }
   ],
   "source": [
    "kmeans2 = KMeans(n_clusters = 2, init = 'k-means++', random_state = 42)\n",
    "y_kmeans2 = kmeans2.fit_predict(XX)\n",
    "y_kmeans2"
   ]
  },
  {
   "cell_type": "code",
   "execution_count": 15,
   "id": "n7fQ3U7TsAqg",
   "metadata": {
    "colab": {
     "base_uri": "https://localhost:8080/",
     "height": 527
    },
    "id": "n7fQ3U7TsAqg",
    "outputId": "41012b6b-9485-4522-d001-9d9960e6da7b"
   },
   "outputs": [
    {
     "name": "stderr",
     "output_type": "stream",
     "text": [
      "/usr/local/lib/python3.10/dist-packages/sklearn/cluster/_kmeans.py:870: FutureWarning: The default value of `n_init` will change from 10 to 'auto' in 1.4. Set the value of `n_init` explicitly to suppress the warning\n",
      "  warnings.warn(\n"
     ]
    },
    {
     "data": {
      "image/png": "[encoded data removed]",
      "text/plain": [
       "<Figure size 640x480 with 1 Axes>"
      ]
     },
     "metadata": {},
     "output_type": "display_data"
    }
   ],
   "source": [
    "kmeans = KMeans(n_clusters=3, init='k-means++', random_state=42)\n",
    "y_kmeans3 = kmeans.fit_predict(X)\n",
    "\n",
    "sns.scatterplot(x=X[:,0], y=X[:,1], hue=[\"cluster-{}\".format(x) for x in y_kmeans3])\n",
    "plt.scatter(kmeans.cluster_centers_[:,0], kmeans.cluster_centers_[:,1], s=200, c='orange', label='Centroids')\n",
    "plt.title('Clusters Based On Top Seller and Total Product Listed')\n",
    "plt.xlabel('Top Sellers')\n",
    "plt.ylabel('Total Products Listed')\n",
    "plt.legend(bbox_to_anchor=(1.05, 1), loc=0, borderaxespad=0.)\n",
    "plt.show()"
   ]
  },
  {
   "cell_type": "code",
   "execution_count": 16,
   "id": "RlGi3eq5tc1n",
   "metadata": {
    "colab": {
     "base_uri": "https://localhost:8080/",
     "height": 527
    },
    "id": "RlGi3eq5tc1n",
    "outputId": "6d01f34c-35e6-4fee-9b35-1f24ac001252"
   },
   "outputs": [
    {
     "name": "stderr",
     "output_type": "stream",
     "text": [
      "/usr/local/lib/python3.10/dist-packages/sklearn/cluster/_kmeans.py:870: FutureWarning: The default value of `n_init` will change from 10 to 'auto' in 1.4. Set the value of `n_init` explicitly to suppress the warning\n",
      "  warnings.warn(\n"
     ]
    },
    {
     "data": {
      "image/png": "[encoded data removed]",
      "text/plain": [
       "<Figure size 640x480 with 1 Axes>"
      ]
     },
     "metadata": {},
     "output_type": "display_data"
    }
   ],
   "source": [
    "kmeans = KMeans(n_clusters=2, init='k-means++', random_state=42)\n",
    "y_kmeans2 = kmeans.fit_predict(X)\n",
    "\n",
    "sns.scatterplot(x=X[:,0], y=X[:,1], hue=[\"cluster-{}\".format(x) for x in y_kmeans2])\n",
    "plt.scatter(kmeans.cluster_centers_[:,0], kmeans.cluster_centers_[:,1], s=200, c='orange', label='Centroids')\n",
    "plt.title('Clusters Based On Top Seller and Total Product Listed')\n",
    "plt.xlabel('Top Sellers')\n",
    "plt.ylabel('Total Products Listed')\n",
    "plt.legend(bbox_to_anchor=(1.05, 1), loc=0, borderaxespad=0.)\n",
    "plt.show()"
   ]
  },
  {
   "cell_type": "markdown",
   "id": "345e425a",
   "metadata": {
    "id": "345e425a"
   },
   "source": [
    "# Clustering using Hierachical"
   ]
  },
  {
   "cell_type": "code",
   "execution_count": 17,
   "id": "q41Khr5QwI0W",
   "metadata": {
    "colab": {
     "base_uri": "https://localhost:8080/",
     "height": 476
    },
    "id": "q41Khr5QwI0W",
    "outputId": "a8152523-9539-4a59-b779-b5a5aadeea53"
   },
   "outputs": [
    {
     "data": {
      "image/png": "[encoded data removed]",
      "text/plain": [
       "<Figure size 640x480 with 1 Axes>"
      ]
     },
     "metadata": {},
     "output_type": "display_data"
    }
   ],
   "source": [
    "import scipy.cluster.hierarchy as sch\n",
    "dendrogram = sch.dendrogram(sch.linkage(X, method = 'ward'))\n",
    "plt.title('Dendrogram')\n",
    "plt.xlabel('Top Sellers')\n",
    "plt.ylabel('Total Products Listed')\n",
    "plt.show()"
   ]
  },
  {
   "cell_type": "markdown",
   "id": "0qMQN_Qnws6p",
   "metadata": {
    "id": "0qMQN_Qnws6p"
   },
   "source": [
    "Using average, the optimal number of cluster is 2."
   ]
  },
  {
   "cell_type": "code",
   "execution_count": 18,
   "id": "5d8739e2",
   "metadata": {
    "colab": {
     "base_uri": "https://localhost:8080/"
    },
    "id": "5d8739e2",
    "outputId": "a1929f0c-0968-437e-c670-05af7c9ddcd4"
   },
   "outputs": [
    {
     "name": "stderr",
     "output_type": "stream",
     "text": [
      "/usr/local/lib/python3.10/dist-packages/sklearn/cluster/_agglomerative.py:983: FutureWarning: Attribute `affinity` was deprecated in version 1.2 and will be removed in 1.4. Use `metric` instead\n",
      "  warnings.warn(\n"
     ]
    }
   ],
   "source": [
    "# Training the Hierarchical Clustering model on the dataset\n",
    "from sklearn.cluster import AgglomerativeClustering\n",
    "hc = AgglomerativeClustering(n_clusters = 2, affinity = 'euclidean', linkage = 'ward')\n",
    "y_hc = hc.fit_predict(X)"
   ]
  },
  {
   "cell_type": "markdown",
   "id": "bf55684e",
   "metadata": {
    "id": "bf55684e"
   },
   "source": [
    "# Silhouette score"
   ]
  },
  {
   "cell_type": "markdown",
   "id": "FkbeAR0TvZho",
   "metadata": {
    "id": "FkbeAR0TvZho"
   },
   "source": [
    "Silhouette Score in K-Mean Clustering for Number of cluster = 2 and 3"
   ]
  },
  {
   "cell_type": "code",
   "execution_count": 19,
   "id": "b28d55a0",
   "metadata": {
    "colab": {
     "base_uri": "https://localhost:8080/"
    },
    "id": "b28d55a0",
    "outputId": "c9c8696d-7178-49da-aa4e-364de459821b"
   },
   "outputs": [
    {
     "name": "stdout",
     "output_type": "stream",
     "text": [
      "0.7429155534862316\n"
     ]
    }
   ],
   "source": [
    "from sklearn.metrics import silhouette_score\n",
    "\n",
    "score = silhouette_score(XX, kmeans3.labels_, metric='euclidean')\n",
    "print(score)"
   ]
  },
  {
   "cell_type": "code",
   "execution_count": 21,
   "id": "YHJn9XyEuhMT",
   "metadata": {
    "colab": {
     "base_uri": "https://localhost:8080/"
    },
    "id": "YHJn9XyEuhMT",
    "outputId": "b5240747-b090-423d-d2b9-f36d47fb4fd6"
   },
   "outputs": [
    {
     "name": "stdout",
     "output_type": "stream",
     "text": [
      "0.7839587344859795\n"
     ]
    }
   ],
   "source": [
    "from sklearn.metrics import silhouette_score\n",
    "\n",
    "score2 = silhouette_score(XX, kmeans2.labels_, metric='euclidean')\n",
    "print(score2)"
   ]
  },
  {
   "cell_type": "markdown",
   "id": "RaJjrZBoyQzm",
   "metadata": {
    "id": "RaJjrZBoyQzm"
   },
   "source": [
    "Silhouette Score in Hierachical Clustering for Number of cluster = 2\n",
    "\n"
   ]
  },
  {
   "cell_type": "code",
   "execution_count": 22,
   "id": "JK4zQPyly3LE",
   "metadata": {
    "colab": {
     "base_uri": "https://localhost:8080/"
    },
    "id": "JK4zQPyly3LE",
    "outputId": "eb738e15-1599-4494-d81f-7c4ba72a7be3"
   },
   "outputs": [
    {
     "name": "stdout",
     "output_type": "stream",
     "text": [
      "0.8264978161083107\n"
     ]
    },
    {
     "name": "stderr",
     "output_type": "stream",
     "text": [
      "/usr/local/lib/python3.10/dist-packages/sklearn/cluster/_agglomerative.py:983: FutureWarning: Attribute `affinity` was deprecated in version 1.2 and will be removed in 1.4. Use `metric` instead\n",
      "  warnings.warn(\n"
     ]
    }
   ],
   "source": [
    "from sklearn.metrics import silhouette_score\n",
    "\n",
    "# Apply Agglomerative Clustering\n",
    "cluster = AgglomerativeClustering(n_clusters=2, affinity='euclidean', linkage='ward')\n",
    "y_hc = cluster.fit_predict(X)\n",
    "\n",
    "# Calculate Silhouette Score\n",
    "score = silhouette_score(X, y_hc, metric='euclidean')\n",
    "\n",
    "print(score)"
   ]
  },
  {
   "cell_type": "markdown",
   "id": "ec25bf7a",
   "metadata": {
    "id": "ec25bf7a"
   },
   "source": [
    "# Visualization after clustering"
   ]
  },
  {
   "cell_type": "code",
   "execution_count": 23,
   "id": "-2Gd4607xO8e",
   "metadata": {
    "colab": {
     "base_uri": "https://localhost:8080/",
     "height": 472
    },
    "id": "-2Gd4607xO8e",
    "outputId": "786667b1-cc6e-4907-fd90-6ab08fc74d84"
   },
   "outputs": [
    {
     "data": {
      "image/png": "[encoded data removed]",
      "text/plain": [
       "<Figure size 640x480 with 1 Axes>"
      ]
     },
     "metadata": {},
     "output_type": "display_data"
    }
   ],
   "source": [
    "plt.scatter(X[y_hc == 0, 0], X[y_hc == 0, 1], s = 100, c = 'blue', label = 'Cluster 0')\n",
    "plt.scatter(X[y_hc == 1, 0], X[y_hc == 1, 1], s = 100, c = 'orange', label = 'Cluster 1')\n",
    "\n",
    "plt.title('Clusters Based On Top Seller and Total Product Listed')\n",
    "plt.xlabel('Top Sellers')\n",
    "plt.ylabel('Total Products Listed')\n",
    "plt.legend()\n",
    "plt.show()"
   ]
  },
  {
   "cell_type": "markdown",
   "id": "GWUpdYkLzL4B",
   "metadata": {
    "id": "GWUpdYkLzL4B"
   },
   "source": [
    "# **Finding /Conclusion**"
   ]
  },
  {
   "cell_type": "markdown",
   "id": "pQmIuBQA1NZp",
   "metadata": {
    "id": "pQmIuBQA1NZp"
   },
   "source": [
    "* This assessment perform data clustering using two different methods, K-means and Hierarchical clustering.\n",
    "\n",
    "* Based on the elbow method (K-means), the optimal number of cluster is 3. However, to get better performance and result, the comparison betweem 2 cluster and 3 cluster is made.\n",
    "\n",
    "* Based on the result of silhouette scores for the K-means model with 2 cluster and 3 cluster, the K-means model with 2 clusters is better as it scores 0.78 compared to 3 cluster at 0.74.\n",
    "\n",
    "* However, these two scores are close to each others, the difference in cluster quality with the models is not too big. Also, both of the clusters are dense and very well separated.\n",
    "\n",
    "* In hierarchical, using dendogram to find the optimal number of cluster through average aproach, the output is 2.\n",
    "\n",
    "* During visualization, there are two groups of cluster:\n",
    "1. Cluster 0 (Blue): Countries that have a high number of Top Sellers but a low Total Products Listed. These could be companies that focus on selling a few high-performing products.\n",
    "2. Cluster 1 (Orange): Countries that have a lower number of Top Sellers but a high Total Products Listed. These could be companies with a wide range of products, but only a few of them are top sellers.\n",
    "\n",
    "Most of the country belongs to Cluster 0, and less country belongs to cluster 1.\n",
    "\n",
    "* In addition, both hierarchical clustering and K-means have high silhouette scores, both methods are good match on its clutering for this dataset.\n",
    "\n",
    "* However, the silhoutte score for hierarchical clustering (0.83) is slightly higher than K-means (0.78). Meaning the hierarchical clustering did a slightly better job of assigning the data points to clusters.\n",
    "\n",
    "* In conclusion, we can concluded that a top seller is not necessarily need to have a variety of products, but perhaps it is more important on the fact of the quality of the products, marketing, customer service, or other factors.\n"
   ]
  }
 ],
 "metadata": {
  "colab": {
   "provenance": []
  },
  "kernelspec": {
   "display_name": "Python 3 (ipykernel)",
   "language": "python",
   "name": "python3"
  },
  "language_info": {
   "codemirror_mode": {
    "name": "ipython",
    "version": 3
   },
   "file_extension": ".py",
   "mimetype": "text/x-python",
   "name": "python",
   "nbconvert_exporter": "python",
   "pygments_lexer": "ipython3",
   "version": "3.11.4"
  },
  "toc": {
   "base_numbering": 1,
   "nav_menu": {},
   "number_sections": true,
   "sideBar": false,
   "skip_h1_title": true,
   "title_cell": "Table of Contents",
   "title_sidebar": "Contents",
   "toc_cell": false,
   "toc_position": {
    "height": "443.2px",
    "left": "39px",
    "top": "140.4px",
    "width": "127.675px"
   },
   "toc_section_display": false,
   "toc_window_display": true
  }
 },
 "nbformat": 4,
 "nbformat_minor": 5
}
